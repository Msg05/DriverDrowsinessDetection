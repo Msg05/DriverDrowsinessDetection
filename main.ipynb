{
 "cells": [
  {
   "cell_type": "code",
   "execution_count": 2,
   "metadata": {},
   "outputs": [],
   "source": [
    "import cv2\n",
    "import mediapipe as mp\n",
    "import math"
   ]
  },
  {
   "cell_type": "code",
   "execution_count": 3,
   "metadata": {},
   "outputs": [],
   "source": [
    "cap = cv2.VideoCapture(r\"Video\\WhatsApp Video 2024-12-06 at 9.36.43 PM.mp4\")"
   ]
  },
  {
   "cell_type": "code",
   "execution_count": 4,
   "metadata": {},
   "outputs": [],
   "source": [
    "mpDraw = mp.solutions.drawing_utils\n",
    "mpFaceMesh = mp.solutions.face_mesh\n",
    "faceMesh = mpFaceMesh.FaceMesh()\n",
    "\n",
    "face_drawing_spec = mpDraw.DrawingSpec(thickness=1, circle_radius=2, color=(0, 255, 0))\n",
    "\n",
    "selected_landmarks = {\n",
    "    \"right_eye\": [1,2,3,4,5,6],\n",
    "    \"left_eye\": [7,8,9,10,11,12],\n",
    "    \"mouth\": [13,14,15,16,17,18,19,20,21,22,23,24]\n",
    "}\n",
    "\n",
    "initial_pos = {}"
   ]
  },
  {
   "cell_type": "code",
   "execution_count": null,
   "metadata": {},
   "outputs": [],
   "source": [
    "\n",
    "while True:\n",
    "    try:\n",
    "        sucs, frame = cap.read()\n",
    "        if not sucs:\n",
    "            print(\"End of video or unable to read the video.\")\n",
    "            break\n",
    "        \n",
    "        colorImg = cv2.cvtColor(frame, cv2.COLOR_BGR2RGB)\n",
    "        RgbVideo = faceMesh.process(colorImg)\n",
    "\n",
    "        if RgbVideo.multi_face_landmarks:\n",
    "            dists = []\n",
    "            for faceLms in RgbVideo.multi_face_landmarks:\n",
    "                for feature, indices in selected_landmarks.items():\n",
    "                    for idx in indices:\n",
    "                        h, w, _ = frame.shape\n",
    "                        x = int(faceLms.landmark[idx].x * w)\n",
    "                        y = int(faceLms.landmark[idx].y * h)\n",
    "\n",
    "                        if idx not in initial_pos:\n",
    "                            initial_pos[idx] = (x, y)\n",
    "                        \n",
    "                        initial_x, initial_y = initial_pos[idx]\n",
    "                        distance = math.sqrt((x - initial_x) ** 2 + (y - initial_y) ** 2)\n",
    "\n",
    "                        cv2.circle(frame, (x, y), 2, (0, 255, 0), -1)\n",
    "                        dists.append(f\"{idx},{distance:.2f}\")\n",
    "\n",
    "            print(\"Landmark ID, dist Traveled (pixels)\")\n",
    "            print(\"\\n\".join(dists))\n",
    "\n",
    "        cv2.imshow(\"VIDEO\", frame)\n",
    "        if cv2.waitKey(10) == ord('a'):\n",
    "            break\n",
    "    except Exception as e:\n",
    "        print(f\"An error occurred: {e}\")\n",
    "        break\n",
    "\n",
    "cap.release()\n",
    "cv2.destroyAllWindows()"
   ]
  },
  {
   "cell_type": "code",
   "execution_count": null,
   "metadata": {},
   "outputs": [],
   "source": []
  }
 ],
 "metadata": {
  "kernelspec": {
   "display_name": "Python 3",
   "language": "python",
   "name": "python3"
  },
  "language_info": {
   "codemirror_mode": {
    "name": "ipython",
    "version": 3
   },
   "file_extension": ".py",
   "mimetype": "text/x-python",
   "name": "python",
   "nbconvert_exporter": "python",
   "pygments_lexer": "ipython3",
   "version": "3.12.8"
  }
 },
 "nbformat": 4,
 "nbformat_minor": 2
}
